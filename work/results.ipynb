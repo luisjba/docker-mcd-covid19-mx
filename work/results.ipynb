{
 "cells": [
  {
   "cell_type": "markdown",
   "id": "9f2aeefa",
   "metadata": {},
   "source": [
    "# Results for analisys of COVID data of Mexico at 2021/04/23\n",
    "## Import libraries"
   ]
  },
  {
   "cell_type": "code",
   "execution_count": 91,
   "id": "1eaae775",
   "metadata": {},
   "outputs": [],
   "source": [
    "import os\n",
    "import numpy as np\n",
    "import matplotlib.pyplot as plt\n",
    "import pandas as pd\n",
    "from IPython.display import Markdown as md\n",
    "%matplotlib inline"
   ]
  },
  {
   "cell_type": "markdown",
   "id": "25a0abc9",
   "metadata": {},
   "source": [
    "## Importing dataset into panda dataframes"
   ]
  },
  {
   "cell_type": "code",
   "execution_count": 3,
   "id": "0f578b2a",
   "metadata": {},
   "outputs": [],
   "source": [
    "df_national = pd.read_csv('./data/filter_nat.csv')"
   ]
  },
  {
   "cell_type": "code",
   "execution_count": 4,
   "id": "af39921b",
   "metadata": {},
   "outputs": [],
   "source": [
    "df_dictionary_states = pd.read_excel('./data/diccionario_datos_covid19/201128 Catalogos.xlsx',\n",
    "                                    sheet_name='Catálogo de ENTIDADES',\n",
    "                                    index_col='CLAVE_ENTIDAD')\n",
    "df_dictionary_clasification = pd.read_excel('./data/diccionario_datos_covid19/201128 Catalogos.xlsx',\n",
    "                                    sheet_name='Catálogo CLASIFICACION_FINAL',\n",
    "                                    index_col='CLAVE', \n",
    "                                    skiprows=2)"
   ]
  },
  {
   "cell_type": "markdown",
   "id": "0f066e23",
   "metadata": {},
   "source": [
    "#### The dictionary contains the list of states, that will be used to fill our plots with information."
   ]
  },
  {
   "cell_type": "code",
   "execution_count": 36,
   "id": "fc1656fb",
   "metadata": {
    "scrolled": false
   },
   "outputs": [
    {
     "data": {
      "text/html": [
       "<div>\n",
       "<style scoped>\n",
       "    .dataframe tbody tr th:only-of-type {\n",
       "        vertical-align: middle;\n",
       "    }\n",
       "\n",
       "    .dataframe tbody tr th {\n",
       "        vertical-align: top;\n",
       "    }\n",
       "\n",
       "    .dataframe thead th {\n",
       "        text-align: right;\n",
       "    }\n",
       "</style>\n",
       "<table border=\"1\" class=\"dataframe\">\n",
       "  <thead>\n",
       "    <tr style=\"text-align: right;\">\n",
       "      <th></th>\n",
       "      <th>ENTIDAD_FEDERATIVA</th>\n",
       "      <th>ABREVIATURA</th>\n",
       "    </tr>\n",
       "    <tr>\n",
       "      <th>CLAVE_ENTIDAD</th>\n",
       "      <th></th>\n",
       "      <th></th>\n",
       "    </tr>\n",
       "  </thead>\n",
       "  <tbody>\n",
       "    <tr>\n",
       "      <th>1</th>\n",
       "      <td>AGUASCALIENTES</td>\n",
       "      <td>AS</td>\n",
       "    </tr>\n",
       "    <tr>\n",
       "      <th>2</th>\n",
       "      <td>BAJA CALIFORNIA</td>\n",
       "      <td>BC</td>\n",
       "    </tr>\n",
       "    <tr>\n",
       "      <th>3</th>\n",
       "      <td>BAJA CALIFORNIA SUR</td>\n",
       "      <td>BS</td>\n",
       "    </tr>\n",
       "    <tr>\n",
       "      <th>4</th>\n",
       "      <td>CAMPECHE</td>\n",
       "      <td>CC</td>\n",
       "    </tr>\n",
       "    <tr>\n",
       "      <th>5</th>\n",
       "      <td>COAHUILA DE ZARAGOZA</td>\n",
       "      <td>CL</td>\n",
       "    </tr>\n",
       "  </tbody>\n",
       "</table>\n",
       "</div>"
      ],
      "text/plain": [
       "                 ENTIDAD_FEDERATIVA ABREVIATURA\n",
       "CLAVE_ENTIDAD                                  \n",
       "1                    AGUASCALIENTES          AS\n",
       "2                   BAJA CALIFORNIA          BC\n",
       "3               BAJA CALIFORNIA SUR          BS\n",
       "4                          CAMPECHE          CC\n",
       "5              COAHUILA DE ZARAGOZA          CL"
      ]
     },
     "execution_count": 36,
     "metadata": {},
     "output_type": "execute_result"
    }
   ],
   "source": [
    "df_dictionary_states.head()"
   ]
  },
  {
   "cell_type": "code",
   "execution_count": 40,
   "id": "71367b12",
   "metadata": {},
   "outputs": [
    {
     "data": {
      "text/plain": [
       "CLAVE_ENTIDAD\n",
       "1    AS\n",
       "2    BC\n",
       "3    BS\n",
       "4    CC\n",
       "5    CL\n",
       "Name: ABREVIATURA, dtype: object"
      ]
     },
     "execution_count": 40,
     "metadata": {},
     "output_type": "execute_result"
    }
   ],
   "source": [
    "states_code = df_dictionary_states.loc[:32,\"ABREVIATURA\"]\n",
    "states_code.head()"
   ]
  },
  {
   "cell_type": "markdown",
   "id": "d5d7b617",
   "metadata": {},
   "source": [
    "#### Clasification dictionary"
   ]
  },
  {
   "cell_type": "code",
   "execution_count": 6,
   "id": "5dc3a170",
   "metadata": {
    "scrolled": true
   },
   "outputs": [
    {
     "data": {
      "text/html": [
       "<div>\n",
       "<style scoped>\n",
       "    .dataframe tbody tr th:only-of-type {\n",
       "        vertical-align: middle;\n",
       "    }\n",
       "\n",
       "    .dataframe tbody tr th {\n",
       "        vertical-align: top;\n",
       "    }\n",
       "\n",
       "    .dataframe thead th {\n",
       "        text-align: right;\n",
       "    }\n",
       "</style>\n",
       "<table border=\"1\" class=\"dataframe\">\n",
       "  <thead>\n",
       "    <tr style=\"text-align: right;\">\n",
       "      <th></th>\n",
       "      <th>CLASIFICACIÓN</th>\n",
       "      <th>DESCRIPCIÓN</th>\n",
       "    </tr>\n",
       "    <tr>\n",
       "      <th>CLAVE</th>\n",
       "      <th></th>\n",
       "      <th></th>\n",
       "    </tr>\n",
       "  </thead>\n",
       "  <tbody>\n",
       "    <tr>\n",
       "      <th>1</th>\n",
       "      <td>CASO DE COVID-19 CONFIRMADO POR ASOCIACIÓN CLÍ...</td>\n",
       "      <td>Confirmado por asociación aplica cuando el cas...</td>\n",
       "    </tr>\n",
       "    <tr>\n",
       "      <th>2</th>\n",
       "      <td>CASO DE COVID-19 CONFIRMADO POR COMITÉ DE  DIC...</td>\n",
       "      <td>Confirmado por dictaminación solo aplica para ...</td>\n",
       "    </tr>\n",
       "    <tr>\n",
       "      <th>3</th>\n",
       "      <td>CASO DE SARS-COV-2  CONFIRMADO</td>\n",
       "      <td>Confirmado aplica cuando:\\nEl caso tiene muest...</td>\n",
       "    </tr>\n",
       "    <tr>\n",
       "      <th>4</th>\n",
       "      <td>INVÁLIDO POR LABORATORIO</td>\n",
       "      <td>Inválido aplica cuando el caso no tienen asoci...</td>\n",
       "    </tr>\n",
       "    <tr>\n",
       "      <th>5</th>\n",
       "      <td>NO REALIZADO POR LABORATORIO</td>\n",
       "      <td>No realizado aplica cuando el caso no tienen a...</td>\n",
       "    </tr>\n",
       "    <tr>\n",
       "      <th>6</th>\n",
       "      <td>CASO SOSPECHOSO</td>\n",
       "      <td>Sospechoso aplica cuando: \\nEl caso no tienen ...</td>\n",
       "    </tr>\n",
       "    <tr>\n",
       "      <th>7</th>\n",
       "      <td>NEGATIVO A SARS-COV-2</td>\n",
       "      <td>Negativo aplica cuando el caso:\\n1. Se le tomo...</td>\n",
       "    </tr>\n",
       "  </tbody>\n",
       "</table>\n",
       "</div>"
      ],
      "text/plain": [
       "                                           CLASIFICACIÓN  \\\n",
       "CLAVE                                                      \n",
       "1      CASO DE COVID-19 CONFIRMADO POR ASOCIACIÓN CLÍ...   \n",
       "2      CASO DE COVID-19 CONFIRMADO POR COMITÉ DE  DIC...   \n",
       "3                         CASO DE SARS-COV-2  CONFIRMADO   \n",
       "4                               INVÁLIDO POR LABORATORIO   \n",
       "5                           NO REALIZADO POR LABORATORIO   \n",
       "6                                        CASO SOSPECHOSO   \n",
       "7                                  NEGATIVO A SARS-COV-2   \n",
       "\n",
       "                                             DESCRIPCIÓN  \n",
       "CLAVE                                                     \n",
       "1      Confirmado por asociación aplica cuando el cas...  \n",
       "2      Confirmado por dictaminación solo aplica para ...  \n",
       "3      Confirmado aplica cuando:\\nEl caso tiene muest...  \n",
       "4      Inválido aplica cuando el caso no tienen asoci...  \n",
       "5      No realizado aplica cuando el caso no tienen a...  \n",
       "6      Sospechoso aplica cuando: \\nEl caso no tienen ...  \n",
       "7      Negativo aplica cuando el caso:\\n1. Se le tomo...  "
      ]
     },
     "execution_count": 6,
     "metadata": {},
     "output_type": "execute_result"
    }
   ],
   "source": [
    "df_dictionary_clasification.head(n=7)"
   ]
  },
  {
   "cell_type": "markdown",
   "id": "652647a3",
   "metadata": {},
   "source": [
    "Filter positives cases indentified when **CLASIFICACION_FINAL** is 1,2 or 3. When **FECHA_DEF** is diferent to `999-999-99` is considered as a death case. We added the **DEATH** column in the positive dataset."
   ]
  },
  {
   "cell_type": "code",
   "execution_count": 81,
   "id": "50c65968",
   "metadata": {},
   "outputs": [
    {
     "data": {
      "text/html": [
       "<div>\n",
       "<style scoped>\n",
       "    .dataframe tbody tr th:only-of-type {\n",
       "        vertical-align: middle;\n",
       "    }\n",
       "\n",
       "    .dataframe tbody tr th {\n",
       "        vertical-align: top;\n",
       "    }\n",
       "\n",
       "    .dataframe thead th {\n",
       "        text-align: right;\n",
       "    }\n",
       "</style>\n",
       "<table border=\"1\" class=\"dataframe\">\n",
       "  <thead>\n",
       "    <tr style=\"text-align: right;\">\n",
       "      <th></th>\n",
       "      <th>ENTIDAD_RES</th>\n",
       "      <th>EDAD</th>\n",
       "      <th>DIABETES</th>\n",
       "      <th>FECHA_DEF</th>\n",
       "      <th>CLASIFICACION_FINAL</th>\n",
       "      <th>DEATH</th>\n",
       "    </tr>\n",
       "  </thead>\n",
       "  <tbody>\n",
       "    <tr>\n",
       "      <th>0</th>\n",
       "      <td>9</td>\n",
       "      <td>41</td>\n",
       "      <td>2</td>\n",
       "      <td>9999-99-99</td>\n",
       "      <td>1</td>\n",
       "      <td>0</td>\n",
       "    </tr>\n",
       "    <tr>\n",
       "      <th>1</th>\n",
       "      <td>23</td>\n",
       "      <td>66</td>\n",
       "      <td>1</td>\n",
       "      <td>2020-07-21</td>\n",
       "      <td>2</td>\n",
       "      <td>1</td>\n",
       "    </tr>\n",
       "    <tr>\n",
       "      <th>8</th>\n",
       "      <td>12</td>\n",
       "      <td>47</td>\n",
       "      <td>1</td>\n",
       "      <td>9999-99-99</td>\n",
       "      <td>3</td>\n",
       "      <td>0</td>\n",
       "    </tr>\n",
       "    <tr>\n",
       "      <th>12</th>\n",
       "      <td>2</td>\n",
       "      <td>32</td>\n",
       "      <td>2</td>\n",
       "      <td>9999-99-99</td>\n",
       "      <td>1</td>\n",
       "      <td>0</td>\n",
       "    </tr>\n",
       "    <tr>\n",
       "      <th>14</th>\n",
       "      <td>22</td>\n",
       "      <td>54</td>\n",
       "      <td>2</td>\n",
       "      <td>9999-99-99</td>\n",
       "      <td>3</td>\n",
       "      <td>0</td>\n",
       "    </tr>\n",
       "  </tbody>\n",
       "</table>\n",
       "</div>"
      ],
      "text/plain": [
       "    ENTIDAD_RES  EDAD  DIABETES   FECHA_DEF  CLASIFICACION_FINAL  DEATH\n",
       "0             9    41         2  9999-99-99                    1      0\n",
       "1            23    66         1  2020-07-21                    2      1\n",
       "8            12    47         1  9999-99-99                    3      0\n",
       "12            2    32         2  9999-99-99                    1      0\n",
       "14           22    54         2  9999-99-99                    3      0"
      ]
     },
     "execution_count": 81,
     "metadata": {},
     "output_type": "execute_result"
    }
   ],
   "source": [
    "positives =  df_national.loc[df_national[\"CLASIFICACION_FINAL\"] < 4,:]\n",
    "# mask_alive = positives.loc[:,\"FECHA_DEF\"].str.contains('9999-99-99', na = False)\n",
    "positives = positives.assign(DEATH=np.ones(positives.shape[0], dtype = np.int32))\n",
    "positives.loc[positives[\"FECHA_DEF\"]=='9999-99-99',\"DEATH\"] = 0\n",
    "positives.head()"
   ]
  },
  {
   "cell_type": "markdown",
   "id": "7d9c56fb",
   "metadata": {},
   "source": [
    "### Create a State category from State dictionary"
   ]
  },
  {
   "cell_type": "code",
   "execution_count": 82,
   "id": "da968ac0",
   "metadata": {},
   "outputs": [],
   "source": [
    "positives[\"state\"] = positives[\"ENTIDAD_RES\"].astype(\"category\")\n",
    "positives[\"state\"].cat.categories = states_code.iloc[:]"
   ]
  },
  {
   "cell_type": "markdown",
   "id": "cc934cf9",
   "metadata": {},
   "source": [
    "##### Rollup data by state"
   ]
  },
  {
   "cell_type": "code",
   "execution_count": 106,
   "id": "6791a14c",
   "metadata": {},
   "outputs": [
    {
     "data": {
      "image/png": "[encoded data removed]",
      "text/plain": [
       "<Figure size 432x288 with 1 Axes>"
      ]
     },
     "metadata": {
      "needs_background": "light"
     },
     "output_type": "display_data"
    }
   ],
   "source": [
    "state_aggregate = positives[[\"state\",\"DEATH\"]].groupby(\"state\").agg(['count', 'sum'])\n",
    "positive_mean, death_mean = state_aggregate.mean()[0:2]\n",
    "plt.plot(states_code, state_aggregate[('DEATH', 'count')], label=\"Positive\")\n",
    "plt.plot(states_code, state_aggregate[('DEATH', 'sum')], label=\"Deaths\")\n",
    "plt.title(\"COVID-19 Cases by State\")\n",
    "plt.xlabel('States')\n",
    "plt.ylabel('Number of Cases')\n",
    "plt.legend()\n",
    "plt.show()"
   ]
  },
  {
   "cell_type": "markdown",
   "id": "a987225c",
   "metadata": {},
   "source": [
    "Stats"
   ]
  },
  {
   "cell_type": "code",
   "execution_count": 104,
   "id": "6908e4f8",
   "metadata": {},
   "outputs": [
    {
     "data": {
      "text/markdown": [
       "# National stats\n",
       "**Positive COVID19 mean:** 72,485\n",
       "\n",
       "**Death by COVID19 mean:** 6,690\n"
      ],
      "text/plain": [
       "<IPython.core.display.Markdown object>"
      ]
     },
     "execution_count": 104,
     "metadata": {},
     "output_type": "execute_result"
    }
   ],
   "source": [
    "md(\"\"\"# National stats\n",
    "**Positive COVID19 mean:** {0:,.0f}\n",
    "\n",
    "**Death by COVID19 mean:** {1:,.0f}\n",
    "\"\"\".format(positive_mean, death_mean)\n",
    ")"
   ]
  }
 ],
 "metadata": {
  "kernelspec": {
   "display_name": "Python 3",
   "language": "python",
   "name": "python3"
  },
  "language_info": {
   "codemirror_mode": {
    "name": "ipython",
    "version": 3
   },
   "file_extension": ".py",
   "mimetype": "text/x-python",
   "name": "python",
   "nbconvert_exporter": "python",
   "pygments_lexer": "ipython3",
   "version": "3.8.8"
  }
 },
 "nbformat": 4,
 "nbformat_minor": 5
}
