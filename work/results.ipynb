{
 "cells": [
  {
   "cell_type": "markdown",
   "id": "9f2aeefa",
   "metadata": {},
   "source": [
    "# Results for analisys of COVID data of Mexico at 2021/04/23\n",
    "## Import libraries"
   ]
  },
  {
   "cell_type": "code",
   "execution_count": 11,
   "id": "1eaae775",
   "metadata": {},
   "outputs": [],
   "source": [
    "import os\n",
    "import numpy as np\n",
    "import matplotlib.pyplot as plt\n",
    "import pandas as pd"
   ]
  },
  {
   "cell_type": "markdown",
   "id": "25a0abc9",
   "metadata": {},
   "source": [
    "## Importing dataset"
   ]
  },
  {
   "cell_type": "code",
   "execution_count": 18,
   "id": "0f578b2a",
   "metadata": {},
   "outputs": [
    {
     "name": "stdout",
     "output_type": "stream",
     "text": [
      "        ENTIDAD_RES          EDAD      DIABETES  CLASIFICACION_FINAL\n",
      "count  6.487007e+06  6.487007e+06  6.487007e+06         6.487007e+06\n",
      "mean   1.425643e+01  4.096868e+01  2.111116e+00         5.444471e+00\n",
      "std    7.559332e+00  1.687418e+01  4.508487e+00         1.962358e+00\n",
      "min    1.000000e+00  0.000000e+00  1.000000e+00         1.000000e+00\n",
      "25%    9.000000e+00  2.800000e+01  2.000000e+00         3.000000e+00\n",
      "50%    1.100000e+01  3.900000e+01  2.000000e+00         7.000000e+00\n",
      "75%    1.900000e+01  5.200000e+01  2.000000e+00         7.000000e+00\n",
      "max    3.200000e+01  1.210000e+02  9.800000e+01         7.000000e+00\n"
     ]
    }
   ],
   "source": [
    "dataset = pd.read_csv('./data/filter_nat.csv')\n",
    "print(dataset.describe())"
   ]
  },
  {
   "cell_type": "code",
   "execution_count": 21,
   "id": "da968ac0",
   "metadata": {},
   "outputs": [],
   "source": [
    "ds_group_by_state = dataset.groupby(['ENTIDAD_RES'], as_index=False)"
   ]
  },
  {
   "cell_type": "code",
   "execution_count": 24,
   "id": "000c4aa9",
   "metadata": {},
   "outputs": [
    {
     "name": "stdout",
     "output_type": "stream",
     "text": [
      "{'_selection': None, 'level': None, 'as_index': False, 'keys': ['ENTIDAD_RES'], 'sort': True, 'group_keys': True, 'squeeze': False, 'observed': False, 'mutated': False, 'dropna': True, 'obj':          ENTIDAD_RES  EDAD  DIABETES   FECHA_DEF  CLASIFICACION_FINAL\n",
      "0                  9    41         2  9999-99-99                    1\n",
      "1                 23    66         1  2020-07-21                    2\n",
      "2                 22    29         2  9999-99-99                    6\n",
      "3                  9    40         2  9999-99-99                    7\n",
      "4                  9    34         2  9999-99-99                    6\n",
      "...              ...   ...       ...         ...                  ...\n",
      "6487002            9    30         2  9999-99-99                    7\n",
      "6487003            9    24         2  9999-99-99                    7\n",
      "6487004           14    44         2  9999-99-99                    7\n",
      "6487005            9    69         2  9999-99-99                    6\n",
      "6487006            9    73        98  9999-99-99                    6\n",
      "\n",
      "[6487007 rows x 5 columns], 'axis': 0, 'grouper': <pandas.core.groupby.ops.BaseGrouper object at 0x7f39bc4640d0>, 'exclusions': {'ENTIDAD_RES'}}\n"
     ]
    }
   ],
   "source": [
    "print(ds_group_by_state.__dict__)"
   ]
  },
  {
   "cell_type": "code",
   "execution_count": null,
   "id": "6791a14c",
   "metadata": {},
   "outputs": [],
   "source": []
  }
 ],
 "metadata": {
  "kernelspec": {
   "display_name": "Python 3",
   "language": "python",
   "name": "python3"
  },
  "language_info": {
   "codemirror_mode": {
    "name": "ipython",
    "version": 3
   },
   "file_extension": ".py",
   "mimetype": "text/x-python",
   "name": "python",
   "nbconvert_exporter": "python",
   "pygments_lexer": "ipython3",
   "version": "3.8.8"
  }
 },
 "nbformat": 4,
 "nbformat_minor": 5
}
